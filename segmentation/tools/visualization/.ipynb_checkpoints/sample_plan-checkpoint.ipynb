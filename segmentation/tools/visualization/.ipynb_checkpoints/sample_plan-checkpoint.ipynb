{
 "cells": [
  {
   "cell_type": "code",
   "execution_count": 14,
   "metadata": {},
   "outputs": [],
   "source": [
    "sns.set_palette(\"Dark2\")"
   ]
  },
  {
   "cell_type": "code",
   "execution_count": 24,
   "metadata": {},
   "outputs": [],
   "source": [
    "import matplotlib.pyplot as plt\n",
    "import numpy as np\n",
    "import seaborn as sns\n",
    "\n",
    "# 生成多组数据\n",
    "step = np.arange(1, 11, 1)\n",
    "miou1 = np.array([0.45, 0.48, 0.51, 0.53, 0.55, 0.58, 0.6, 0.62, 0.65, 0.67])\n",
    "miou2 = np.array([0.35, 0.38, 0.41, 0.43, 0.45, 0.48, 0.5, 0.52, 0.55, 0.57])\n",
    "miou3 = np.array([0.25, 0.28, 0.31, 0.33, 0.35, 0.38, 0.4, 0.42, 0.45, 0.47])\n",
    "\n",
    "# 设置Seaborn风格和颜色\n",
    "sns.set_style(\"ticks\")\n",
    "sns.set_context(\"paper\")\n",
    "sns.set_palette(sns.color_palette(\"muted\"))\n",
    "\n",
    "# 创建一个新的图像并设置标题\n",
    "fig = plt.figure()\n",
    "\n",
    "# 绘制离散点相连的折线图\n",
    "plt.plot(step, miou1, linewidth=1, linestyle='-', marker='o', markersize=6)\n",
    "plt.plot(step, miou2, linewidth=1, linestyle='-', marker='o', markersize=6)\n",
    "plt.plot(step, miou3, linewidth=1, linestyle='-', marker='o', markersize=6)\n",
    "\n",
    "# 设置x轴和y轴标签\n",
    "plt.xlabel('step')\n",
    "plt.ylabel('mIoU')\n",
    "\n",
    "# 显示网格线\n",
    "plt.grid(True)\n",
    "\n",
    "# 添加图例\n",
    "plt.legend(['DDIM', 'DDPM', 'DDIM+Ensemble'], loc='lower right')\n",
    "\n",
    "# 绘制图像并保存\n",
    "fig.canvas.draw()\n",
    "plt.savefig('ddp_sample_plan.pdf', bbox_inches='tight')\n",
    "\n",
    "# 关闭图像\n",
    "plt.close(fig)"
   ]
  },
  {
   "cell_type": "code",
   "execution_count": null,
   "metadata": {},
   "outputs": [],
   "source": []
  }
 ],
 "metadata": {
  "kernelspec": {
   "display_name": "plot",
   "language": "python",
   "name": "plot"
  },
  "language_info": {
   "codemirror_mode": {
    "name": "ipython",
    "version": 3
   },
   "file_extension": ".py",
   "mimetype": "text/x-python",
   "name": "python",
   "nbconvert_exporter": "python",
   "pygments_lexer": "ipython3",
   "version": "3.7.9"
  }
 },
 "nbformat": 4,
 "nbformat_minor": 4
}
